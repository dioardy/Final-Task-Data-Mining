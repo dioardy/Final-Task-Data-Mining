{
  "nbformat": 4,
  "nbformat_minor": 0,
  "metadata": {
    "colab": {
      "name": "SGD.ipynb",
      "provenance": [],
      "collapsed_sections": []
    },
    "kernelspec": {
      "name": "python3",
      "display_name": "Python 3"
    }
  },
  "cells": [
    {
      "cell_type": "code",
      "metadata": {
        "id": "vNkj1Z_HjmU8",
        "colab_type": "code",
        "colab": {}
      },
      "source": [
        "import numpy as np\n",
        "import pandas as pd\n",
        "from scipy.io.arff import loadarff \n",
        "import sklearn as sk\n",
        "from sklearn.preprocessing import LabelEncoder"
      ],
      "execution_count": 0,
      "outputs": []
    },
    {
      "cell_type": "code",
      "metadata": {
        "id": "bgpVmxDsj1fo",
        "colab_type": "code",
        "outputId": "07b64eb9-0178-4f91-fb1e-d1ce84a8ef17",
        "colab": {
          "base_uri": "https://localhost:8080/",
          "height": 799
        }
      },
      "source": [
        "df = pd.read_csv(\"ckd.arff\")\n",
        "print(df)\n",
        "df.info()"
      ],
      "execution_count": 85,
      "outputs": [
        {
          "output_type": "stream",
          "text": [
            "    age  bp     sg al su     rbc  ...   dm cad appet   pe  ane   class\n",
            "0    48  80  1.020  1  0       ?  ...  yes  no  good   no   no     ckd\n",
            "1     7  50  1.020  4  0       ?  ...   no  no  good   no   no     ckd\n",
            "2    62  80  1.010  2  3  normal  ...  yes  no  poor   no  yes     ckd\n",
            "3    48  70  1.005  4  0  normal  ...   no  no  poor  yes  yes     ckd\n",
            "4    51  80  1.010  2  0  normal  ...   no  no  good   no   no     ckd\n",
            "..   ..  ..    ... .. ..     ...  ...  ...  ..   ...  ...  ...     ...\n",
            "395  55  80  1.020  0  0  normal  ...   no  no  good   no   no  notckd\n",
            "396  42  70  1.025  0  0  normal  ...   no  no  good   no   no  notckd\n",
            "397  12  80  1.020  0  0  normal  ...   no  no  good   no   no  notckd\n",
            "398  17  60  1.025  0  0  normal  ...   no  no  good   no   no  notckd\n",
            "399  58  80  1.025  0  0  normal  ...   no  no  good   no   no  notckd\n",
            "\n",
            "[400 rows x 25 columns]\n",
            "<class 'pandas.core.frame.DataFrame'>\n",
            "RangeIndex: 400 entries, 0 to 399\n",
            "Data columns (total 25 columns):\n",
            " #   Column  Non-Null Count  Dtype \n",
            "---  ------  --------------  ----- \n",
            " 0   age     400 non-null    object\n",
            " 1   bp      400 non-null    object\n",
            " 2   sg      400 non-null    object\n",
            " 3   al      400 non-null    object\n",
            " 4   su      400 non-null    object\n",
            " 5   rbc     400 non-null    object\n",
            " 6   pc      400 non-null    object\n",
            " 7   pcc     400 non-null    object\n",
            " 8   ba      400 non-null    object\n",
            " 9   bgr     400 non-null    object\n",
            " 10  bu      400 non-null    object\n",
            " 11  sc      400 non-null    object\n",
            " 12  sod     400 non-null    object\n",
            " 13  pot     400 non-null    object\n",
            " 14  hemo    400 non-null    object\n",
            " 15  pcv     400 non-null    object\n",
            " 16  wbcc    400 non-null    object\n",
            " 17  rbcc    400 non-null    object\n",
            " 18  htn     400 non-null    object\n",
            " 19  dm      400 non-null    object\n",
            " 20  cad     400 non-null    object\n",
            " 21  appet   400 non-null    object\n",
            " 22  pe      400 non-null    object\n",
            " 23  ane     400 non-null    object\n",
            " 24  class   400 non-null    object\n",
            "dtypes: object(25)\n",
            "memory usage: 78.2+ KB\n"
          ],
          "name": "stdout"
        }
      ]
    },
    {
      "cell_type": "code",
      "metadata": {
        "id": "L7F1w_q_lBiY",
        "colab_type": "code",
        "colab": {}
      },
      "source": [
        "#Define tipe data int dan float yang akan digunakan untuk encoding\n",
        "numerics = ['int64', 'float64']\n",
        "categorical_columns = []\n",
        "features = df.columns.values.tolist()\n",
        "for col in features:\n",
        "    if df[col].dtype in numerics: continue\n",
        "    categorical_columns.append(col)\n",
        "#Meng-encode data yang categorical\n",
        "for col in categorical_columns:\n",
        "    if col in df.columns:\n",
        "        le = LabelEncoder()\n",
        "        le.fit(list(df[col].astype(str).values))\n",
        "        df[col] = le.transform(list(df[col].astype(str).values))"
      ],
      "execution_count": 0,
      "outputs": []
    },
    {
      "cell_type": "code",
      "metadata": {
        "id": "glmXlJNXlz1p",
        "colab_type": "code",
        "outputId": "173acd47-cd51-4b13-a9a2-308eba5578c1",
        "colab": {
          "base_uri": "https://localhost:8080/",
          "height": 561
        }
      },
      "source": [
        "df.info()"
      ],
      "execution_count": 87,
      "outputs": [
        {
          "output_type": "stream",
          "text": [
            "<class 'pandas.core.frame.DataFrame'>\n",
            "RangeIndex: 400 entries, 0 to 399\n",
            "Data columns (total 25 columns):\n",
            " #   Column  Non-Null Count  Dtype\n",
            "---  ------  --------------  -----\n",
            " 0   age     400 non-null    int64\n",
            " 1   bp      400 non-null    int64\n",
            " 2   sg      400 non-null    int64\n",
            " 3   al      400 non-null    int64\n",
            " 4   su      400 non-null    int64\n",
            " 5   rbc     400 non-null    int64\n",
            " 6   pc      400 non-null    int64\n",
            " 7   pcc     400 non-null    int64\n",
            " 8   ba      400 non-null    int64\n",
            " 9   bgr     400 non-null    int64\n",
            " 10  bu      400 non-null    int64\n",
            " 11  sc      400 non-null    int64\n",
            " 12  sod     400 non-null    int64\n",
            " 13  pot     400 non-null    int64\n",
            " 14  hemo    400 non-null    int64\n",
            " 15  pcv     400 non-null    int64\n",
            " 16  wbcc    400 non-null    int64\n",
            " 17  rbcc    400 non-null    int64\n",
            " 18  htn     400 non-null    int64\n",
            " 19  dm      400 non-null    int64\n",
            " 20  cad     400 non-null    int64\n",
            " 21  appet   400 non-null    int64\n",
            " 22  pe      400 non-null    int64\n",
            " 23  ane     400 non-null    int64\n",
            " 24  class   400 non-null    int64\n",
            "dtypes: int64(25)\n",
            "memory usage: 78.2 KB\n"
          ],
          "name": "stdout"
        }
      ]
    },
    {
      "cell_type": "code",
      "metadata": {
        "id": "fL5Tkdzil8q7",
        "colab_type": "code",
        "outputId": "2da5a864-5a05-4327-9055-e2f5e86b0a4c",
        "colab": {
          "base_uri": "https://localhost:8080/",
          "height": 102
        }
      },
      "source": [
        "print(df.groupby('rbc').size())"
      ],
      "execution_count": 88,
      "outputs": [
        {
          "output_type": "stream",
          "text": [
            "rbc\n",
            "0    152\n",
            "1     47\n",
            "2    201\n",
            "dtype: int64\n"
          ],
          "name": "stdout"
        }
      ]
    },
    {
      "cell_type": "code",
      "metadata": {
        "id": "egg30TDQmf2O",
        "colab_type": "code",
        "colab": {}
      },
      "source": [
        "#Split data\n",
        "# Import fungsi train_test_split\n",
        "from sklearn.model_selection import train_test_split\n",
        "\n",
        "# Split dataset into training set and test set\n",
        "df_feature = df.iloc[:,0:24]\n",
        "df_target = df[['class']]\n",
        "# 70% training dan 30% test. ini untuk algortima SGD 1\n",
        "X_train1, X_test1, y_train1, y_test1 = train_test_split(df_feature, df_target, test_size=0.3,random_state=109)"
      ],
      "execution_count": 0,
      "outputs": []
    },
    {
      "cell_type": "code",
      "metadata": {
        "id": "cVY_KWiynZ6H",
        "colab_type": "code",
        "colab": {}
      },
      "source": [
        "from sklearn import linear_model\n",
        "\n",
        "#Create Classifier\n",
        "classifier1 = linear_model.SGDClassifier(max_iter = 1000, tol=1e-3,penalty = \"elasticnet\")\n",
        "\n",
        "# Train the model using the training sets\n",
        "classifier1.fit(X_train1, y_train1.values.ravel())\n",
        "\n",
        "#Predict the response of test dataset\n",
        "y_pred1 = classifier1.predict(X_test1)"
      ],
      "execution_count": 0,
      "outputs": []
    },
    {
      "cell_type": "code",
      "metadata": {
        "id": "6Zo_WfdCneF-",
        "colab_type": "code",
        "outputId": "a3118162-aed0-4cf8-b13b-9fe6eda20801",
        "colab": {
          "base_uri": "https://localhost:8080/",
          "height": 204
        }
      },
      "source": [
        "from sklearn.metrics import classification_report, confusion_matrix, accuracy_score\n",
        "\n",
        "print(classification_report(y_test1,y_pred1))\n",
        "print(\"Accuracy : \")\n",
        "print(accuracy_score(y_test1, y_pred1))"
      ],
      "execution_count": 91,
      "outputs": [
        {
          "output_type": "stream",
          "text": [
            "              precision    recall  f1-score   support\n",
            "\n",
            "           0       0.99      0.93      0.96        76\n",
            "           2       0.90      0.98      0.93        44\n",
            "\n",
            "    accuracy                           0.95       120\n",
            "   macro avg       0.94      0.96      0.95       120\n",
            "weighted avg       0.95      0.95      0.95       120\n",
            "\n",
            "Accuracy : \n",
            "0.95\n"
          ],
          "name": "stdout"
        }
      ]
    }
  ]
}